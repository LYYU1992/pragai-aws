{
 "cells": [
  {
   "cell_type": "code",
   "execution_count": 37,
   "metadata": {},
   "outputs": [],
   "source": [
    "#Add root checkout to path\n",
    "import sys\n",
    "sys.path.append(\"..\")\n",
    "import pandas as pd"
   ]
  },
  {
   "cell_type": "code",
   "execution_count": 38,
   "metadata": {
    "collapsed": true
   },
   "outputs": [],
   "source": [
    "from paws.s3 import (boto_s3_resource, download)"
   ]
  },
  {
   "cell_type": "code",
   "execution_count": 39,
   "metadata": {
    "collapsed": true
   },
   "outputs": [],
   "source": [
    "resource = boto_s3_resource()"
   ]
  },
  {
   "cell_type": "code",
   "execution_count": 40,
   "metadata": {},
   "outputs": [
    {
     "name": "stderr",
     "output_type": "stream",
     "text": [
      "2017-09-03 11:39:23,668 - Paws - INFO - Attempting download: gdelt-open-data, events/1979.csv, 1979.csv\n"
     ]
    }
   ],
   "source": [
    "#csv_file = download(resource=resource, \n",
    "#                    bucket=\"gdelt-open-data\", \n",
    "#                    key=\"events/1979.csv\",\n",
    "#                    filename=\"1979.csv\")"
   ]
  },
  {
   "cell_type": "code",
   "execution_count": 54,
   "metadata": {
    "collapsed": true
   },
   "outputs": [],
   "source": [
    "#Load the file, truncate it and save.\n",
    "#df = pd.read_csv(csv_file, names=range(5))\n",
    "#df = df.head(100)\n",
    "#df.to_csv(csv_file)"
   ]
  },
  {
   "cell_type": "code",
   "execution_count": 52,
   "metadata": {},
   "outputs": [
    {
     "data": {
      "text/html": [
       "<div>\n",
       "<style>\n",
       "    .dataframe thead tr:only-child th {\n",
       "        text-align: right;\n",
       "    }\n",
       "\n",
       "    .dataframe thead th {\n",
       "        text-align: left;\n",
       "    }\n",
       "\n",
       "    .dataframe tbody tr th {\n",
       "        vertical-align: top;\n",
       "    }\n",
       "</style>\n",
       "<table border=\"1\" class=\"dataframe\">\n",
       "  <thead>\n",
       "    <tr style=\"text-align: right;\">\n",
       "      <th></th>\n",
       "      <th>0</th>\n",
       "      <th>1</th>\n",
       "      <th>2</th>\n",
       "      <th>3</th>\n",
       "      <th>4</th>\n",
       "    </tr>\n",
       "  </thead>\n",
       "  <tbody>\n",
       "    <tr>\n",
       "      <th>0</th>\n",
       "      <td>0\\t19790101\\t197901\\t1979\\t1979.0027\\t\\t\\t\\t\\t...</td>\n",
       "      <td>NaN</td>\n",
       "      <td>NaN</td>\n",
       "      <td>NaN</td>\n",
       "      <td>NaN</td>\n",
       "    </tr>\n",
       "    <tr>\n",
       "      <th>1</th>\n",
       "      <td>1\\t19790101\\t197901\\t1979\\t1979.0027\\t\\t\\t\\t\\t...</td>\n",
       "      <td>NaN</td>\n",
       "      <td>NaN</td>\n",
       "      <td>NaN</td>\n",
       "      <td>NaN</td>\n",
       "    </tr>\n",
       "    <tr>\n",
       "      <th>2</th>\n",
       "      <td>2\\t19790101\\t197901\\t1979\\t1979.0027\\t\\t\\t\\t\\t...</td>\n",
       "      <td>NaN</td>\n",
       "      <td>NaN</td>\n",
       "      <td>NaN</td>\n",
       "      <td>NaN</td>\n",
       "    </tr>\n",
       "    <tr>\n",
       "      <th>3</th>\n",
       "      <td>3\\t19790101\\t197901\\t1979\\t1979.0027\\t\\t\\t\\t\\t...</td>\n",
       "      <td>Guangxi</td>\n",
       "      <td>China\\tCH\\tCH16\\t23.0036\\t106.359\\t-1903584\\t...</td>\n",
       "      <td>Guangxi</td>\n",
       "      <td>China\\tCH\\tCH16\\t23.0036\\t106.359\\t-1903584\\t...</td>\n",
       "    </tr>\n",
       "    <tr>\n",
       "      <th>4</th>\n",
       "      <td>4\\t19790101\\t197901\\t1979\\t1979.0027\\t\\t\\t\\t\\t...</td>\n",
       "      <td>Texas</td>\n",
       "      <td>United States\\tUS\\tUSTX\\t32.7831\\t-96.8067\\t1...</td>\n",
       "      <td>Texas</td>\n",
       "      <td>United States\\tUS\\tUSTX\\t32.7831\\t-96.8067\\t1...</td>\n",
       "    </tr>\n",
       "  </tbody>\n",
       "</table>\n",
       "</div>"
      ],
      "text/plain": [
       "                                                   0         1  \\\n",
       "0  0\\t19790101\\t197901\\t1979\\t1979.0027\\t\\t\\t\\t\\t...       NaN   \n",
       "1  1\\t19790101\\t197901\\t1979\\t1979.0027\\t\\t\\t\\t\\t...       NaN   \n",
       "2  2\\t19790101\\t197901\\t1979\\t1979.0027\\t\\t\\t\\t\\t...       NaN   \n",
       "3  3\\t19790101\\t197901\\t1979\\t1979.0027\\t\\t\\t\\t\\t...   Guangxi   \n",
       "4  4\\t19790101\\t197901\\t1979\\t1979.0027\\t\\t\\t\\t\\t...     Texas   \n",
       "\n",
       "                                                   2         3  \\\n",
       "0                                                NaN       NaN   \n",
       "1                                                NaN       NaN   \n",
       "2                                                NaN       NaN   \n",
       "3   China\\tCH\\tCH16\\t23.0036\\t106.359\\t-1903584\\t...   Guangxi   \n",
       "4   United States\\tUS\\tUSTX\\t32.7831\\t-96.8067\\t1...     Texas   \n",
       "\n",
       "                                                   4  \n",
       "0                                                NaN  \n",
       "1                                                NaN  \n",
       "2                                                NaN  \n",
       "3   China\\tCH\\tCH16\\t23.0036\\t106.359\\t-1903584\\t...  \n",
       "4   United States\\tUS\\tUSTX\\t32.7831\\t-96.8067\\t1...  "
      ]
     },
     "execution_count": 52,
     "metadata": {},
     "output_type": "execute_result"
    }
   ],
   "source": [
    "df = pd.read_csv(\"1979.csv\", names=range(5))\n",
    "df.head()"
   ]
  },
  {
   "cell_type": "code",
   "execution_count": 53,
   "metadata": {},
   "outputs": [
    {
     "data": {
      "text/html": [
       "<div>\n",
       "<style>\n",
       "    .dataframe thead tr:only-child th {\n",
       "        text-align: right;\n",
       "    }\n",
       "\n",
       "    .dataframe thead th {\n",
       "        text-align: left;\n",
       "    }\n",
       "\n",
       "    .dataframe tbody tr th {\n",
       "        vertical-align: top;\n",
       "    }\n",
       "</style>\n",
       "<table border=\"1\" class=\"dataframe\">\n",
       "  <thead>\n",
       "    <tr style=\"text-align: right;\">\n",
       "      <th></th>\n",
       "      <th>0</th>\n",
       "      <th>1</th>\n",
       "      <th>2</th>\n",
       "      <th>3</th>\n",
       "      <th>4</th>\n",
       "    </tr>\n",
       "  </thead>\n",
       "  <tbody>\n",
       "    <tr>\n",
       "      <th>count</th>\n",
       "      <td>430941</td>\n",
       "      <td>302655</td>\n",
       "      <td>299621</td>\n",
       "      <td>261756</td>\n",
       "      <td>249436</td>\n",
       "    </tr>\n",
       "    <tr>\n",
       "      <th>unique</th>\n",
       "      <td>430941</td>\n",
       "      <td>4695</td>\n",
       "      <td>44404</td>\n",
       "      <td>7165</td>\n",
       "      <td>23628</td>\n",
       "    </tr>\n",
       "    <tr>\n",
       "      <th>top</th>\n",
       "      <td>225065\\t19790726\\t197907\\t1979\\t1979.5644\\tCHN...</td>\n",
       "      <td>Beijing</td>\n",
       "      <td>Vietnam</td>\n",
       "      <td>Beijing</td>\n",
       "      <td>China\\tCH\\tCH22\\t39.9289\\t116.388\\t-1898541\\t...</td>\n",
       "    </tr>\n",
       "    <tr>\n",
       "      <th>freq</th>\n",
       "      <td>1</td>\n",
       "      <td>17675</td>\n",
       "      <td>13005</td>\n",
       "      <td>13996</td>\n",
       "      <td>5977</td>\n",
       "    </tr>\n",
       "  </tbody>\n",
       "</table>\n",
       "</div>"
      ],
      "text/plain": [
       "                                                        0         1         2  \\\n",
       "count                                              430941    302655    299621   \n",
       "unique                                             430941      4695     44404   \n",
       "top     225065\\t19790726\\t197907\\t1979\\t1979.5644\\tCHN...   Beijing   Vietnam   \n",
       "freq                                                    1     17675     13005   \n",
       "\n",
       "               3                                                  4  \n",
       "count     261756                                             249436  \n",
       "unique      7165                                              23628  \n",
       "top      Beijing   China\\tCH\\tCH22\\t39.9289\\t116.388\\t-1898541\\t...  \n",
       "freq       13996                                               5977  "
      ]
     },
     "execution_count": 53,
     "metadata": {},
     "output_type": "execute_result"
    }
   ],
   "source": [
    "df.describe()"
   ]
  },
  {
   "cell_type": "code",
   "execution_count": null,
   "metadata": {
    "collapsed": true
   },
   "outputs": [],
   "source": []
  }
 ],
 "metadata": {
  "kernelspec": {
   "display_name": "Python 3",
   "language": "python",
   "name": "python3"
  },
  "language_info": {
   "codemirror_mode": {
    "name": "ipython",
    "version": 3
   },
   "file_extension": ".py",
   "mimetype": "text/x-python",
   "name": "python",
   "nbconvert_exporter": "python",
   "pygments_lexer": "ipython3",
   "version": "3.6.2"
  }
 },
 "nbformat": 4,
 "nbformat_minor": 2
}
